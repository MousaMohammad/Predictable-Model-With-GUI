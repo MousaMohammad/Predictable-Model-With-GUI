{
 "cells": [
  {
   "cell_type": "code",
   "execution_count": 48,
   "metadata": {},
   "outputs": [],
   "source": [
    "import numpy as np\n",
    "import matplotlib.pyplot as plt\n",
    "import pandas as pd\n",
    "from sklearn.preprocessing import LabelEncoder\n",
    "from sklearn.model_selection import train_test_split\n",
    "from sklearn.preprocessing import StandardScaler\n",
    "from sklearn.neighbors import KNeighborsClassifier\n",
    "from sklearn.tree import DecisionTreeClassifier\n",
    "from sklearn.ensemble import RandomForestClassifier"
   ]
  },
  {
   "cell_type": "code",
   "execution_count": 69,
   "metadata": {},
   "outputs": [],
   "source": [
    "from flask import Flask,request,render_template\n",
    "class Api:\n",
    "    app = Flask(__name__,template_folder='template')\n",
    "\n",
    "    @app.route('/') \n",
    "    def home():\n",
    "        return render_template('selecting.html')\n",
    "\n",
    "    @app.route('/test' , methods=['POST'])\n",
    "    def test():\n",
    "        dataset  = request.form[\"dataset\"]\n",
    "        dataset1 = dataset \n",
    "        dataset  = dataset+'.csv'\n",
    "        \n",
    "        return render_template('test.html',dataset1=dataset1)\n",
    "    \n",
    "    \n",
    "    @app.route('/score' , methods=['POST'])\n",
    "    def score():\n",
    "        X,y = select(dataset)\n",
    "        X_test,X_train,y_test,y_train = split(X,y)\n",
    "        score = decisiontree()\n",
    "        \n",
    "        \n",
    "        return render_template('score.html',score=score)\n",
    "    \n",
    "    @app.route('/finish' , methods=['POST'])\n",
    "    def finish():\n",
    "        \n",
    "        return \"THanks ... !!!\"\n",
    "    \n",
    "    \n",
    "    @app.route('/classify')\n",
    "    def classify():\n",
    "        return render_template('submit.html')\n",
    "    \n",
    "    @app.route('/result' , methods=['POST'])\n",
    "    def result():\n",
    "        gender        = request.form['gender']\n",
    "        seniorcitizen = requestuest.form['seniorcitizen']\n",
    "        dependent     = request.form['dependent']\n",
    "        tenure        = request.form['tenure']\n",
    "        totalcharge   = request.form['totalcharge']\n",
    "        \n",
    "        return render_template('result.html')"
   ]
  },
  {
   "cell_type": "code",
   "execution_count": 70,
   "metadata": {},
   "outputs": [
    {
     "name": "stdout",
     "output_type": "stream",
     "text": [
      " * Serving Flask app \"__main__\" (lazy loading)\n",
      " * Environment: production\n",
      "   WARNING: This is a development server. Do not use it in a production deployment.\n",
      "   Use a production WSGI server instead.\n",
      " * Debug mode: off\n"
     ]
    },
    {
     "name": "stderr",
     "output_type": "stream",
     "text": [
      " * Running on http://127.0.0.1:5000/ (Press CTRL+C to quit)\n",
      "127.0.0.1 - - [01/Sep/2019 23:36:15] \"GET / HTTP/1.1\" 200 -\n",
      "127.0.0.1 - - [01/Sep/2019 23:36:15] \"GET /tree.jpg HTTP/1.1\" 404 -\n",
      "127.0.0.1 - - [01/Sep/2019 23:36:17] \"POST /test HTTP/1.1\" 200 -\n",
      "127.0.0.1 - - [01/Sep/2019 23:36:23] \"POST /test HTTP/1.1\" 200 -\n",
      "C:\\Users\\Mariam\\Anaconda3\\envs\\mousa\\lib\\site-packages\\ipykernel_launcher.py:6: SettingWithCopyWarning: \n",
      "A value is trying to be set on a copy of a slice from a DataFrame.\n",
      "Try using .loc[row_indexer,col_indexer] = value instead\n",
      "\n",
      "See the caveats in the documentation: http://pandas.pydata.org/pandas-docs/stable/user_guide/indexing.html#returning-a-view-versus-a-copy\n",
      "  \n",
      "C:\\Users\\Mariam\\Anaconda3\\envs\\mousa\\lib\\site-packages\\ipykernel_launcher.py:7: SettingWithCopyWarning: \n",
      "A value is trying to be set on a copy of a slice from a DataFrame.\n",
      "Try using .loc[row_indexer,col_indexer] = value instead\n",
      "\n",
      "See the caveats in the documentation: http://pandas.pydata.org/pandas-docs/stable/user_guide/indexing.html#returning-a-view-versus-a-copy\n",
      "  import sys\n",
      "C:\\Users\\Mariam\\Anaconda3\\envs\\mousa\\lib\\site-packages\\ipykernel_launcher.py:8: SettingWithCopyWarning: \n",
      "A value is trying to be set on a copy of a slice from a DataFrame.\n",
      "Try using .loc[row_indexer,col_indexer] = value instead\n",
      "\n",
      "See the caveats in the documentation: http://pandas.pydata.org/pandas-docs/stable/user_guide/indexing.html#returning-a-view-versus-a-copy\n",
      "  \n",
      "127.0.0.1 - - [01/Sep/2019 23:36:25] \"POST /score HTTP/1.1\" 200 -\n",
      "127.0.0.1 - - [01/Sep/2019 23:36:29] \"POST /result HTTP/1.1\" 400 -\n"
     ]
    }
   ],
   "source": [
    "Api.app.run()"
   ]
  },
  {
   "cell_type": "code",
   "execution_count": 50,
   "metadata": {},
   "outputs": [],
   "source": [
    "def prepare(datasetname):\n",
    "    dataset = pd.read_csv(datasetname)\n",
    "    return dataset"
   ]
  },
  {
   "cell_type": "code",
   "execution_count": 51,
   "metadata": {},
   "outputs": [],
   "source": [
    "def iris(xy):\n",
    "    X = xy.iloc[:,:3 ].values\n",
    "    #y = dataset.iloc[:, 4].values\n",
    "    le = LabelEncoder()\n",
    "    y=le.fit_transform(xy.species)\n",
    "    return X,y\n",
    "        "
   ]
  },
  {
   "cell_type": "code",
   "execution_count": 52,
   "metadata": {},
   "outputs": [],
   "source": [
    "def glass(xy):\n",
    "    X = xy.iloc[ : , :8 ].values   \n",
    "    y = xy.iloc[ : ,9].values\n",
    "    return X,y"
   ]
  },
  {
   "cell_type": "code",
   "execution_count": 53,
   "metadata": {},
   "outputs": [],
   "source": [
    "def mushrooms(xy):\n",
    "    columns = xy.columns.values\n",
    "    le = LabelEncoder()\n",
    "    for col in columns:\n",
    "        xy[col]=le.fit_transform(xy[col])\n",
    "    le_mushroomClass=LabelEncoder()\n",
    "    y = le_mushroomClass.fit_transform(xy['class'] )\n",
    "    X = xy.iloc[:,1:].values    \n",
    "    return X,y"
   ]
  },
  {
   "cell_type": "code",
   "execution_count": 54,
   "metadata": {},
   "outputs": [],
   "source": [
    "def mobile(xy):\n",
    "    X = xy.iloc[:, 0:19 ].values   \n",
    "    y = xy.iloc[: , 20].values\n",
    "    return X,y"
   ]
  },
  {
   "cell_type": "code",
   "execution_count": 55,
   "metadata": {},
   "outputs": [],
   "source": [
    "def tele_customers(xy):\n",
    "    xy        = xy[['gender','SeniorCitizen','Dependents','tenure','TotalCharges','Churn']]\n",
    "    le_gender = LabelEncoder()\n",
    "    le_dep    = LabelEncoder()\n",
    "    le_churn  = LabelEncoder()\n",
    "    xy['gender']     = le_gender.fit_transform(xy.gender)\n",
    "    xy['Dependents'] = le_dep.fit_transform(xy.Dependents)\n",
    "    xy['Churn']      = le_churn.fit_transform(xy.Churn)\n",
    "    X = xy.iloc[:,:-1]\n",
    "    y = xy.iloc[:,5]\n",
    "    return X,y"
   ]
  },
  {
   "cell_type": "code",
   "execution_count": 56,
   "metadata": {},
   "outputs": [],
   "source": [
    "def select(xx):\n",
    "    if xx   == 'iris.csv':\n",
    "        xx  = prepare(xx)\n",
    "        X,y = iris(xx)\n",
    "        return X,y\n",
    "    elif xx == 'glass.csv':\n",
    "        xx  = prepare(xx)\n",
    "        X,y = glass(xx)\n",
    "        return X,y\n",
    "    elif xx == 'mobile.csv':\n",
    "        xx  = prepare(xx)\n",
    "        X,y = mobile(xx)\n",
    "        return X,y\n",
    "    elif xx == 'mushrooms.csv':\n",
    "        xx  = prepare(xx)\n",
    "        X,y = mushrooms(xx)\n",
    "        return X,y\n",
    "    else:\n",
    "        xx  = prepare(xx)\n",
    "        X,y = tele_customers(xx)\n",
    "        return X,y"
   ]
  },
  {
   "cell_type": "code",
   "execution_count": 57,
   "metadata": {},
   "outputs": [],
   "source": [
    "def split(a,b):\n",
    "\n",
    "    X_train, X_test, y_train, y_test = train_test_split(a, b, test_size = 0.2, random_state = 0)\n",
    "    \n",
    "    sc = StandardScaler()\n",
    "\n",
    "    X_train = sc.fit_transform(X_train)\n",
    "\n",
    "    X_test = sc.transform(X_test)\n",
    "    return X_test,X_train,y_test,y_train"
   ]
  },
  {
   "cell_type": "markdown",
   "metadata": {},
   "source": [
    "## modeling"
   ]
  },
  {
   "cell_type": "code",
   "execution_count": 58,
   "metadata": {},
   "outputs": [],
   "source": [
    "def knn():\n",
    "    \n",
    "    classifier = KNeighborsClassifier(n_neighbors = 5, metric = 'minkowski', p = 2)\n",
    "    classifier.fit(X_train, y_train)\n",
    "    y_pred = classifier.predict(X_test)\n",
    "    knn_score = classifier.score(X_test,y_test)\n",
    "    return knn_score*100"
   ]
  },
  {
   "cell_type": "code",
   "execution_count": 59,
   "metadata": {},
   "outputs": [],
   "source": [
    "def decisiontree():\n",
    "    \n",
    "    clf = DecisionTreeClassifier()\n",
    "    clf.fit(X_train,y_train)\n",
    "    decisiontree_score = clf.score(X_test,y_test)\n",
    "    return decisiontree_score*100"
   ]
  },
  {
   "cell_type": "code",
   "execution_count": 60,
   "metadata": {},
   "outputs": [],
   "source": [
    "def randomforest():\n",
    "    \n",
    "    rf = RandomForestClassifier(n_estimators=5)\n",
    "    rf.fit(X_train,y_train)\n",
    "    randomforest_score = rf.score(X_test,y_test)\n",
    "    \n",
    "    \n",
    "    return randomforest_score*100"
   ]
  },
  {
   "cell_type": "code",
   "execution_count": null,
   "metadata": {},
   "outputs": [],
   "source": [
    "\n",
    "    "
   ]
  },
  {
   "cell_type": "code",
   "execution_count": 45,
   "metadata": {},
   "outputs": [],
   "source": [
    "dataset = 'tele customer'+'.csv'"
   ]
  },
  {
   "cell_type": "code",
   "execution_count": 47,
   "metadata": {},
   "outputs": [
    {
     "name": "stderr",
     "output_type": "stream",
     "text": [
      "C:\\Users\\Mariam\\Anaconda3\\envs\\mousa\\lib\\site-packages\\ipykernel_launcher.py:6: SettingWithCopyWarning: \n",
      "A value is trying to be set on a copy of a slice from a DataFrame.\n",
      "Try using .loc[row_indexer,col_indexer] = value instead\n",
      "\n",
      "See the caveats in the documentation: http://pandas.pydata.org/pandas-docs/stable/user_guide/indexing.html#returning-a-view-versus-a-copy\n",
      "  \n",
      "C:\\Users\\Mariam\\Anaconda3\\envs\\mousa\\lib\\site-packages\\ipykernel_launcher.py:7: SettingWithCopyWarning: \n",
      "A value is trying to be set on a copy of a slice from a DataFrame.\n",
      "Try using .loc[row_indexer,col_indexer] = value instead\n",
      "\n",
      "See the caveats in the documentation: http://pandas.pydata.org/pandas-docs/stable/user_guide/indexing.html#returning-a-view-versus-a-copy\n",
      "  import sys\n",
      "C:\\Users\\Mariam\\Anaconda3\\envs\\mousa\\lib\\site-packages\\ipykernel_launcher.py:8: SettingWithCopyWarning: \n",
      "A value is trying to be set on a copy of a slice from a DataFrame.\n",
      "Try using .loc[row_indexer,col_indexer] = value instead\n",
      "\n",
      "See the caveats in the documentation: http://pandas.pydata.org/pandas-docs/stable/user_guide/indexing.html#returning-a-view-versus-a-copy\n",
      "  \n"
     ]
    },
    {
     "data": {
      "text/plain": [
       "73.24343506032646"
      ]
     },
     "execution_count": 47,
     "metadata": {},
     "output_type": "execute_result"
    }
   ],
   "source": [
    "X,y = select(dataset)\n",
    "X_test,X_train,y_test,y_train = split(X,y)\n",
    "score = randomforest()\n",
    "score\n"
   ]
  },
  {
   "cell_type": "code",
   "execution_count": null,
   "metadata": {},
   "outputs": [],
   "source": [
    "y"
   ]
  },
  {
   "cell_type": "code",
   "execution_count": null,
   "metadata": {},
   "outputs": [],
   "source": [
    "d = prepare(dataset)"
   ]
  },
  {
   "cell_type": "code",
   "execution_count": null,
   "metadata": {},
   "outputs": [],
   "source": [
    "d.head()"
   ]
  },
  {
   "cell_type": "code",
   "execution_count": null,
   "metadata": {},
   "outputs": [],
   "source": [
    "\n",
    "\n",
    "\n",
    "from sklearn.model_selection import train_test_split\n",
    "\n",
    "X_train, X_test, y_train, y_test = train_test_split(X, y, test_size = 0.2, random_state = 0)\n",
    "\n",
    "from sklearn.preprocessing import StandardScaler\n",
    "\n",
    "sc = StandardScaler()\n",
    "\n",
    "X_train = sc.fit_transform(X_train)\n",
    "\n",
    "X_test = sc.transform(X_test)\n",
    "\n",
    "from sklearn.neighbors import KNeighborsClassifier\n",
    "\n",
    "classifier = KNeighborsClassifier(n_neighbors = 5, metric = 'minkowski', p = 2)\n",
    "\n",
    "classifier.fit(X_train, y_train)"
   ]
  },
  {
   "cell_type": "code",
   "execution_count": null,
   "metadata": {},
   "outputs": [],
   "source": [
    "decisiontree()"
   ]
  },
  {
   "cell_type": "code",
   "execution_count": null,
   "metadata": {},
   "outputs": [],
   "source": [
    "randomforest()"
   ]
  }
 ],
 "metadata": {
  "kernelspec": {
   "display_name": "Python 3",
   "language": "python",
   "name": "python3"
  },
  "language_info": {
   "codemirror_mode": {
    "name": "ipython",
    "version": 3
   },
   "file_extension": ".py",
   "mimetype": "text/x-python",
   "name": "python",
   "nbconvert_exporter": "python",
   "pygments_lexer": "ipython3",
   "version": "3.6.8"
  }
 },
 "nbformat": 4,
 "nbformat_minor": 2
}
